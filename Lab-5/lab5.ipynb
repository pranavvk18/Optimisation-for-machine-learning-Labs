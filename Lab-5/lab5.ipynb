{
 "cells": [
  {
   "cell_type": "markdown",
   "metadata": {
    "id": "vs8jDD7u6DW6"
   },
   "source": [
    "#OML Lab 6\n",
    "\n",
    "##Harshit Agarwal 1RVU22CSE063\n",
    "\n",
    "##Pranav P 1RVU22CSE119\n",
    "\n",
    "##Sudhanva M S 1RVU22CSE166"
   ]
  },
  {
   "cell_type": "code",
   "execution_count": 1,
   "metadata": {
    "id": "xUW93toJ5HhG"
   },
   "outputs": [],
   "source": [
    "import math"
   ]
  },
  {
   "cell_type": "markdown",
   "metadata": {},
   "source": []
  },
  {
   "cell_type": "code",
   "execution_count": 2,
   "metadata": {
    "id": "1eZ14UmJ0bAr"
   },
   "outputs": [],
   "source": [
    "def derivative_wrt(functionObj,X,selector,h=0.001):\n",
    "  xph=[X[i]+h*selector[i] for i in range(len(X))]\n",
    "  return (functionObj(xph)-functionObj(X))/h"
   ]
  },
  {
   "cell_type": "code",
   "execution_count": 3,
   "metadata": {
    "id": "ld5Zp-WL1QjT"
   },
   "outputs": [],
   "source": [
    "def gradient_decent(functionObj,X0,rate=0.1,threshold=0.001):\n",
    "  l=[0 for i in range(len(X0))]\n",
    "  dif=1\n",
    "  iter=0\n",
    "  while dif>threshold:\n",
    "    # print(l)\n",
    "    print(\"Iteration \",iter,\" :\",X0)\n",
    "    X1=[]\n",
    "    for i in range(len(l)):\n",
    "      l[i]=1\n",
    "      X1.append(derivative_wrt(functionObj,X0,l))\n",
    "      # print(X1)\n",
    "      l[i]=0\n",
    "    X1=[X0[i]-rate*X1[i] for i in range(len(X0))]\n",
    "    iter+=1\n",
    "    # print(X1)\n",
    "    dif=sum([abs(X0[i]-X1[i]) for i in range(len(X0))])/len(X0)\n",
    "    X0=X1.copy()\n",
    "  return X0"
   ]
  },
  {
   "cell_type": "markdown",
   "metadata": {
    "id": "CkoPzisi6IXs"
   },
   "source": [
    "## 1st Function"
   ]
  },
  {
   "cell_type": "code",
   "execution_count": 4,
   "metadata": {
    "id": "srmckmdI0RqY"
   },
   "outputs": [],
   "source": [
    "def function1(X):\n",
    "  x,y=X\n",
    "  return 2*x**2+4*y**2-2*x*y+2*x+y"
   ]
  },
  {
   "cell_type": "code",
   "execution_count": 5,
   "metadata": {
    "colab": {
     "base_uri": "https://localhost:8080/"
    },
    "id": "Usi84yIC2Zlr",
    "outputId": "190bc27d-92e5-438d-faa4-61cc885cc59e"
   },
   "outputs": [
    {
     "name": "stdout",
     "output_type": "stream",
     "text": [
      "Iteration  0  : [1, 2]\n",
      "Iteration  1  : [0.7997999999999053, 0.49959999999988725]\n",
      "Iteration  2  : [0.37959999999987915, 0.15947999999994344]\n",
      "Iteration  3  : [0.05945599999992357, 0.007415999999980549]\n",
      "Iteration  4  : [-0.16304320000004957, -0.0870256000000198]\n",
      "Iteration  5  : [-0.3154310400000341, -0.15041376000001394]\n",
      "Iteration  6  : [-0.4195413760000303, -0.1935689600000141]\n",
      "Iteration  7  : [-0.4906386176000236, -0.22302206720000894]\n",
      "Iteration  8  : [-0.5391875840000097, -0.24313213696000213]\n",
      "Iteration  9  : [-0.5723389777920177, -0.2568639441920002]\n",
      "Iteration  10  : [-0.5949761755135933, -0.26624058439678366]\n",
      "Iteration  11  : [-0.6104338221875042, -0.27264335198209544]\n",
      "Iteration  12  : [-0.6209889637088998, -0.27701543483390667]\n",
      "Iteration  13  : [-0.6281964651921194, -0.2800008797085436]\n",
      "Iteration  14  : [-0.6331180550569674, -0.28203946898010157]\n",
      "Iteration  15  : [-0.6364787268302122, -0.2834315048074205]\n",
      "Iteration  16  : [-0.6387735370596318, -0.2843820463275488]\n",
      "Iteration  17  : [-0.6403405315012803, -0.2850311166774495]\n",
      "\n",
      "Optimal x and y  -0.641410542236274 -0.2854743296357616\n",
      "Optimal Value: -0.7857105643331189\n"
     ]
    }
   ],
   "source": [
    "xf,yf=gradient_decent(function1,[1,2])\n",
    "\n",
    "print(\"\")\n",
    "print(\"Optimal x and y \",xf,yf)\n",
    "print(\"Optimal Value:\",function1((xf,yf)))"
   ]
  },
  {
   "cell_type": "markdown",
   "metadata": {
    "id": "pg0W4rG349_s"
   },
   "source": [
    "## 2nd Function"
   ]
  },
  {
   "cell_type": "code",
   "execution_count": 6,
   "metadata": {
    "id": "Yxcirsjz4-4I"
   },
   "outputs": [],
   "source": [
    "def function2(X):\n",
    "  x,y=X\n",
    "  return math.cos(x/5-y)+math.sin(x-y/5)+(x**2+y**2)/5"
   ]
  },
  {
   "cell_type": "code",
   "execution_count": 7,
   "metadata": {
    "colab": {
     "base_uri": "https://localhost:8080/"
    },
    "id": "ma3DgQuH2qJT",
    "outputId": "939e56c2-5902-42ea-8150-08808e5b3e9b"
   },
   "outputs": [
    {
     "name": "stdout",
     "output_type": "stream",
     "text": [
      "Iteration  0  : [1, 2]\n",
      "Iteration  1  : [0.8579972774940261, 2.033861228226306]\n",
      "Iteration  2  : [0.7145307962162386, 2.0662539188675204]\n",
      "Iteration  3  : [0.5716780877447416, 2.0965157014510942]\n",
      "Iteration  4  : [0.4316250648404454, 2.124040471944431]\n",
      "Iteration  5  : [0.29648265639859916, 2.148331813860836]\n",
      "Iteration  6  : [0.16810746411680588, 2.169045662749645]\n",
      "Iteration  7  : [0.04796237722830465, 2.1860134916451983]\n",
      "Iteration  8  : [-0.06295890932116555, 2.1992423314298497]\n",
      "Iteration  9  : [-0.1641386577347923, 2.2088939795760636]\n",
      "Iteration  10  : [-0.2554857443267342, 2.2152502493857456]\n",
      "Iteration  11  : [-0.3372522153340505, 2.218672661284025]\n",
      "Iteration  12  : [-0.4099381280091139, 2.2195638216311635]\n",
      "Iteration  13  : [-0.47420154592976527, 2.218335142525572]\n",
      "Iteration  14  : [-0.530783240969602, 2.2153828501122335]\n",
      "Iteration  15  : [-0.5804494036659733, 2.211072198348139]\n",
      "Iteration  16  : [-0.6239515863254894, 2.2057286543577397]\n",
      "Iteration  17  : [-0.6620010828620746, 2.1996343977738957]\n",
      "Iteration  18  : [-0.695254369529553, 2.193028513198079]\n",
      "Iteration  19  : [-0.7243064538114528, 2.1861095153936287]\n",
      "Iteration  20  : [-0.7496895397032919, 2.179039172366713]\n",
      "Iteration  21  : [-0.7718750427073937, 2.171946896493125]\n",
      "Iteration  22  : [-0.7912775458849728, 2.1649342232191597]\n",
      "Iteration  23  : [-0.8082597343559215, 2.1580790841858914]\n",
      "Iteration  24  : [-0.8231376787310793, 2.151439713852952]\n",
      "Iteration  25  : [-0.8361860751797465, 2.1450581172145804]\n",
      "Iteration  26  : [-0.8476432126611764, 2.138963082395571]\n",
      "Iteration  27  : [-0.8577155460770767, 2.133172755392408]\n",
      "Iteration  28  : [-0.8665818237709075, 2.127696812385769]\n",
      "Iteration  29  : [-0.8743967610108214, 2.12253827328913]\n",
      "Iteration  30  : [-0.8812942765874308, 2.1176950022805268]\n",
      "Iteration  31  : [-0.8873903235538947, 2.1131609395372934]\n",
      "Iteration  32  : [-0.8927853516223614, 2.1089271049273477]\n",
      "Iteration  33  : [-0.8975664406196247, 2.1049824100643026]\n",
      "Iteration  34  : [-0.9018091435595075, 2.101314310554701]\n",
      "Iteration  35  : [-0.9055790755115876, 2.0979093258319463]\n",
      "Iteration  36  : [-0.9089332813122972, 2.094753449880114]\n",
      "Iteration  37  : [-0.9119214117493843, 2.091832472494191]\n",
      "Iteration  38  : [-0.9145867344457335, 2.089132227524946]\n",
      "Iteration  39  : [-0.9169670024349328, 2.086638781801185]\n",
      "Iteration  40  : [-0.9190952004482398, 2.084338576077092]\n",
      "Iteration  41  : [-0.9210001862512316, 2.0822185273709253]\n",
      "Iteration  42  : [-0.9227072419903735, 2.0802661004014937]\n",
      "Iteration  43  : [-0.9242385484183444, 2.0784693544428783]\n",
      "Iteration  44  : [-0.9256135930457718, 2.076816970766014]\n",
      "Iteration  45  : [-0.9268495216859138, 2.075298264883028]\n",
      "Iteration  46  : [-0.9279614414980051, 2.073903187021751]\n",
      "Iteration  47  : [-0.9289626824609662, 2.0726223136093718]\n",
      "Iteration  48  : [-0.9298650232046688, 2.071446832009825]\n",
      "\n",
      "Optimal x and y  -0.9306788862644142 2.07036852032124\n",
      "Optimal Value: -0.5772640310185209\n"
     ]
    }
   ],
   "source": [
    "xf,yf=gradient_decent(function2,[1,2])\n",
    "\n",
    "print(\"\")\n",
    "print(\"Optimal x and y \",xf,yf)\n",
    "print(\"Optimal Value:\",function2((xf,yf)))"
   ]
  },
  {
   "cell_type": "code",
   "execution_count": null,
   "metadata": {},
   "outputs": [],
   "source": []
  }
 ],
 "metadata": {
  "colab": {
   "provenance": []
  },
  "kernelspec": {
   "display_name": "Python 3",
   "name": "python3"
  },
  "language_info": {
   "codemirror_mode": {
    "name": "ipython",
    "version": 3
   },
   "file_extension": ".py",
   "mimetype": "text/x-python",
   "name": "python",
   "nbconvert_exporter": "python",
   "pygments_lexer": "ipython3",
   "version": "3.11.0"
  }
 },
 "nbformat": 4,
 "nbformat_minor": 0
}
