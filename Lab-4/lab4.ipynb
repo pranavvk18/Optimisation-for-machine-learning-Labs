{
 "cells": [
  {
   "cell_type": "markdown",
   "metadata": {
    "id": "KjVxXDQkdVYO"
   },
   "source": [
    "# OML Lab\n",
    "\n",
    "## Harshit Agarwal 1RVU22CSE063\n",
    "## Pranav P 1RVU22CSE119\n",
    "## Sudhanva M S 1RVU22CSE166"
   ]
  },
  {
   "cell_type": "code",
   "execution_count": 1,
   "metadata": {
    "id": "gcy0hMMHw7Ht"
   },
   "outputs": [],
   "source": [
    "import math"
   ]
  },
  {
   "cell_type": "code",
   "execution_count": 2,
   "metadata": {
    "id": "XNRHjW_vnWGN"
   },
   "outputs": [],
   "source": [
    "def rowtransform(mat,pr,pc):\n",
    "  div=mat[pr][pc]\n",
    "  if div==0:\n",
    "    return\n",
    "  for i in range(len(mat[0])):\n",
    "    mat[pr][i]/=div\n",
    "  # print(\"===\",mat)\n",
    "  # print(pr,pc)\n",
    "  for i in range(len(mat)):\n",
    "    if i!=pr:\n",
    "      div=mat[i][pc]\n",
    "      for j in range(len(mat[0])):\n",
    "        # print(i,j,pr)\n",
    "        mat[i][j]-=mat[pr][j]*div"
   ]
  },
  {
   "cell_type": "code",
   "execution_count": 3,
   "metadata": {
    "id": "YO-DzxiAnZvc"
   },
   "outputs": [],
   "source": [
    "def find_piv1(mat,Novar):\n",
    "  pc=0\n",
    "  for i in range(len(mat[0])):\n",
    "    if mat[-1][i]<=mat[-1][pc]:\n",
    "      pc=i\n",
    "  if mat[-1][pc]>=0:\n",
    "    return -1,-1\n",
    "  pr=0\n",
    "  prv=float('inf')\n",
    "  for i in range(len(mat)-1):\n",
    "    if mat[i][pc]==0:\n",
    "      continue\n",
    "    a=mat[i][-1]/mat[i][pc]\n",
    "    if a<prv and a>0:\n",
    "      pr=i\n",
    "      prv=a\n",
    "  return pr,pc"
   ]
  },
  {
   "cell_type": "code",
   "execution_count": 4,
   "metadata": {
    "id": "WqakT-QJZPex"
   },
   "outputs": [],
   "source": [
    "def find_piv(mat,Novar):\n",
    "  pc=0\n",
    "  pv=float('inf')\n",
    "  for i in range(Novar):\n",
    "    if mat[-1][i]!=0 and mat[-1][i]<=pv:\n",
    "      pc=i\n",
    "      pv=mat[-1][i]\n",
    "  if pv==float('inf'):\n",
    "    return -1,-1\n",
    "  pr=0\n",
    "  prv=float('inf')\n",
    "  for i in range(len(mat)-1):\n",
    "    if mat[i][pc]==0:\n",
    "      continue\n",
    "    a=mat[i][-1]/mat[i][pc]\n",
    "    if a<prv and a>0:\n",
    "      pr=i\n",
    "      prv=a\n",
    "  return pr,pc"
   ]
  },
  {
   "cell_type": "code",
   "execution_count": 5,
   "metadata": {
    "colab": {
     "base_uri": "https://localhost:8080/"
    },
    "id": "uso-vT3snaA8",
    "outputId": "38f7d224-0313-46c5-de5e-e57d91dc190f"
   },
   "outputs": [
    {
     "name": "stdout",
     "output_type": "stream",
     "text": [
      "======================\n",
      "[[7, -5, 1, 0, 0, 7], [-12, 15, 0, 1, 0, 7], [-1, -1, 0, 0, 1, 0]]\n",
      "1 1\n",
      "======================\n",
      "[[3.0, 0.0, 1.0, 0.3333333333333333, 0.0, 9.333333333333334], [-0.8, 1.0, 0.0, 0.06666666666666667, 0.0, 0.4666666666666667], [-1.8, 0.0, 0.0, 0.06666666666666667, 1.0, 0.4666666666666667]]\n",
      "0 0\n",
      "======================\n",
      "[[1.0, 0.0, 0.3333333333333333, 0.1111111111111111, 0.0, 3.111111111111111], [0.0, 1.0, 0.26666666666666666, 0.15555555555555556, 0.0, 2.9555555555555557], [0.0, 0.0, 0.6, 0.26666666666666666, 1.0, 6.066666666666667]]\n",
      "-1 -1\n"
     ]
    }
   ],
   "source": [
    "mat=[[7,-5,1,0,0,7],[-12,15,0,1,0,7],[-1,-1,0,0,1,0]]\n",
    "\n",
    "NoVar=2\n",
    "s=set()\n",
    "while True:\n",
    "  print(\"======================\")\n",
    "  print(mat)\n",
    "  pr,pc=find_piv(mat,NoVar)\n",
    "  print(pr,pc)\n",
    "  if pr==-1 or pc>NoVar-1 or (pr,pc) in s:\n",
    "    break\n",
    "  s.add((pr,pc))\n",
    "\n",
    "  rowtransform(mat,pr,pc)"
   ]
  },
  {
   "cell_type": "code",
   "execution_count": 6,
   "metadata": {
    "colab": {
     "base_uri": "https://localhost:8080/"
    },
    "id": "CW2OS1cPnbYL",
    "outputId": "dadf0215-47f5-4e1c-ed1d-d1535ba9c07f"
   },
   "outputs": [
    {
     "data": {
      "text/plain": [
       "[[1.0, 0.0, 0.3333333333333333, 0.1111111111111111, 0.0, 3.111111111111111],\n",
       " [0.0, 1.0, 0.26666666666666666, 0.15555555555555556, 0.0, 2.9555555555555557],\n",
       " [0.0, 0.0, 0.6, 0.26666666666666666, 1.0, 6.066666666666667]]"
      ]
     },
     "execution_count": 6,
     "metadata": {},
     "output_type": "execute_result"
    }
   ],
   "source": [
    "mat"
   ]
  },
  {
   "cell_type": "code",
   "execution_count": 7,
   "metadata": {
    "id": "RiZe7ho7xiV-"
   },
   "outputs": [],
   "source": [
    "def solve1(mat,NoVar):\n",
    "  s=set()\n",
    "  while True:\n",
    "    # print(\"======================\")\n",
    "    # print(mat)\n",
    "    pr,pc=find_piv1(mat,NoVar)\n",
    "    # print(pr,pc)\n",
    "    if pr==-1 or (pr,pc) in s:\n",
    "      break\n",
    "    s.add((pr,pc))\n",
    "\n",
    "    rowtransform(mat,pr,pc)\n",
    "  # print(mat)"
   ]
  },
  {
   "cell_type": "code",
   "execution_count": 8,
   "metadata": {
    "id": "hcvhVujjYe7v"
   },
   "outputs": [],
   "source": [
    "def solve(mat,NoVar):\n",
    "  s=set()\n",
    "  while True:\n",
    "    # print(\"======================\")\n",
    "    # print(mat)\n",
    "    pr,pc=find_piv(mat,NoVar)\n",
    "    # print(pr,pc)\n",
    "    if pr==-1 or (pr,pc) in s:\n",
    "      break\n",
    "    s.add((pr,pc))\n",
    "\n",
    "    rowtransform(mat,pr,pc)\n",
    "  # print(mat)"
   ]
  },
  {
   "cell_type": "code",
   "execution_count": 9,
   "metadata": {
    "id": "OO5XiuhNYLS3"
   },
   "outputs": [],
   "source": [
    "# mat1=[[3, -8, 1, 0, 0, 0, 14], [4, 11, 0, 1, 0, 0, 47], [0, 1, 0, 0, 1, 0, 2], [-7, -12, 0, 0, 1, 0, 0]]\n",
    "# solve(mat1,2)\n",
    "# mat1"
   ]
  },
  {
   "cell_type": "code",
   "execution_count": 10,
   "metadata": {
    "id": "919ggoTAYVdR"
   },
   "outputs": [],
   "source": [
    "# extract(mat1)"
   ]
  },
  {
   "cell_type": "code",
   "execution_count": 11,
   "metadata": {
    "id": "gf0YJ5nCC3CS"
   },
   "outputs": [],
   "source": [
    "def extract(mat,NoVar=2):\n",
    "  x=0.0\n",
    "  y=0.0\n",
    "  for i in range(len(mat)-1):\n",
    "    if mat[i][0]==1:\n",
    "      x=mat[i][-1]\n",
    "      break\n",
    "  for i in range(len(mat)-1):\n",
    "    if mat[i][1]==1:\n",
    "      y=mat[i][-1]\n",
    "      break\n",
    "  return float(x),float(y)"
   ]
  },
  {
   "cell_type": "code",
   "execution_count": 12,
   "metadata": {
    "id": "UVk34TxrII4a"
   },
   "outputs": [],
   "source": [
    "mat=[[7, -5, 1, 0, 0, 0, 7], [-12, 15, 0, 1, 0, 0, 7], [0, 1, 0, 0, 1, 0, 2], [-1, -1, 0, 0, 1, 0, 0]]\n",
    "# solve(mat,1)\n",
    "# mat"
   ]
  },
  {
   "cell_type": "code",
   "execution_count": 13,
   "metadata": {
    "id": "8anejWEFI6KL"
   },
   "outputs": [],
   "source": [
    "# extract(mat)"
   ]
  },
  {
   "cell_type": "code",
   "execution_count": 14,
   "metadata": {
    "id": "qGpU0N1-p0lX"
   },
   "outputs": [],
   "source": [
    "ans=[]\n",
    "\n",
    "def branch(mat,NoVar=2):\n",
    "  global ans\n",
    "  matper=[i.copy() for i in mat]\n",
    "  # print(mat1)\n",
    "  solve1(matper,NoVar)\n",
    "  x1,x2=extract(matper)\n",
    "  print(x1,x2)\n",
    "  if x1.is_integer() and x2.is_integer():\n",
    "    return (x1,x2)\n",
    "  else:\n",
    "    if x1-int(x1)>x2-int(x2):\n",
    "      mat1=[[0 for i in range(len(mat[0])-1)] for j in range(len(mat))]\n",
    "      mat2=[[0 for i in range(len(mat[0])-1)] for j in range(len(mat))]\n",
    "      for i in range(len(mat)):\n",
    "        for j in range(len(mat[0])-1):\n",
    "          mat1[i][j]=mat[i][j]\n",
    "          mat2[i][j]=mat[i][j]\n",
    "        mat1[i].append(0)\n",
    "        mat2[i].append(0)\n",
    "        mat1[i].append(mat[i][-1])\n",
    "        mat2[i].append(mat[i][-1])\n",
    "      newrow=[0 for i in range(len(mat[0])-2)]\n",
    "      newrow[0]=1\n",
    "      newrow.append(1)\n",
    "      newrow.append(0)\n",
    "      newrow.append(math.floor(x1))\n",
    "      mat1.insert(2,newrow)\n",
    "      newrow1=newrow.copy()\n",
    "      newrow1[-1]=math.ceil(x1)\n",
    "      # print(newrow)\n",
    "      # print(newrow1)\n",
    "      mat2.insert(2,newrow1)\n",
    "\n",
    "      mat1cp=[i.copy() for i in mat1]\n",
    "      print(\"==\",mat1)\n",
    "\n",
    "      solve1(mat1cp,NoVar)\n",
    "      x11,x21=extract(mat1cp)\n",
    "      print(x11,x21)\n",
    "\n",
    "      # if x11.is_integer() and x21.is_integer():\n",
    "      #     ans.append(x11,x21)\n",
    "\n",
    "      if x11!=x1 or x2!=x21:\n",
    "        ans.append(branch(mat1,NoVar))\n",
    "\n",
    "      # branch(mat2,NoVar)\n",
    "\n",
    "      print(\"--\",mat2)\n",
    "      solve1(mat2,NoVar)\n",
    "      x13,x23=extract(mat1cp)\n",
    "      print(x13,x23)\n",
    "\n",
    "      if x1!=x13 and x2!=x23:\n",
    "        return branch(mat2,NoVar)\n",
    "\n",
    "      # x12=mat1[0][-1]\n",
    "      # x22=mat1[1][-1]\n",
    "      # print(x11,x21)\n",
    "\n",
    "      # return branch(mat1,NoVar+1)\n",
    "      # return branch(mat2,NoVar+1)\n",
    "    else:\n",
    "      # print(mat)\n",
    "      mat1=[[0 for i in range(len(mat[0])-1)] for j in range(len(mat))]\n",
    "      mat2=[[0 for i in range(len(mat[0])-1)] for j in range(len(mat))]\n",
    "      # print(mat1)\n",
    "      for i in range(len(mat)):\n",
    "        for j in range(len(mat[0])-1):\n",
    "          mat1[i][j]=mat[i][j]\n",
    "          mat2[i][j]=mat[i][j]\n",
    "        mat1[i].append(0)\n",
    "        mat2[i].append(0)\n",
    "        mat1[i].append(mat[i][-1])\n",
    "        mat2[i].append(mat[i][-1])\n",
    "      newrow=[0 for i in range(len(mat[0])-2)]\n",
    "      newrow[1]=1\n",
    "      newrow.append(1)\n",
    "      newrow.append(0)\n",
    "      newrow.append(math.floor(x2))\n",
    "      mat1.insert(2,newrow)\n",
    "      newrow1=newrow.copy()\n",
    "      newrow1[-1]=math.ceil(x2)\n",
    "      mat2.insert(2,newrow1)\n",
    "      # print(mat1)\n",
    "      # return branch(mat1,NoVar+1)\n",
    "      # return branch(mat2,NoVar+1)\n",
    "\n",
    "      mat1cp=[i.copy() for i in mat1]\n",
    "      print(\"===\",mat1)\n",
    "\n",
    "      solve1(mat1cp,NoVar+1)\n",
    "      x12,x22=extract(mat1cp)\n",
    "\n",
    "      # solve(mat1,NoVar)\n",
    "      # x12=mat2[0][-1]\n",
    "      # x22=mat2[1][-1]\n",
    "      print(x12,x22)\n",
    "\n",
    "      # if x12.is_integer() and x22.is_integer():\n",
    "      #     return (x11,x12)\n",
    "\n",
    "      if x1!=x12 or x2!=x22:\n",
    "        ans.append(branch(mat1,NoVar+1))\n",
    "\n",
    "      mat2cp=[i.copy() for i in mat2]\n",
    "      print(\"---\",mat2cp)\n",
    "      print(NoVar)\n",
    "      solve1(mat2cp,NoVar)\n",
    "      print(\"--=-\",mat2cp)\n",
    "      x14,x24=extract(mat2cp)\n",
    "      print(x14,x24)\n",
    "\n",
    "      if x1!=x14 and x2!=x24:\n",
    "        return branch(mat2,NoVar)\n",
    "    return (x1,x2)"
   ]
  },
  {
   "cell_type": "markdown",
   "metadata": {
    "id": "9AHTbQLWc_RA"
   },
   "source": [
    "# 1st Question"
   ]
  },
  {
   "cell_type": "code",
   "execution_count": 15,
   "metadata": {
    "colab": {
     "base_uri": "https://localhost:8080/"
    },
    "id": "az5vmGA_ujcv",
    "outputId": "be14fd44-385f-436b-de11-e8587fe5688e"
   },
   "outputs": [
    {
     "name": "stdout",
     "output_type": "stream",
     "text": [
      "3.111111111111111 2.9555555555555557\n",
      "=== [[7, -5, 1, 0, 0, 0, 7], [-12, 15, 0, 1, 0, 0, 7], [0, 1, 0, 0, 1, 0, 2], [-1, -1, 0, 0, 1, 0, 0]]\n",
      "2.428571428571429 2.0\n",
      "2.428571428571429 2.0\n",
      "== [[7, -5, 1, 0, 0, 0, 0, 7], [-12, 15, 0, 1, 0, 0, 0, 7], [1, 0, 0, 0, 0, 1, 0, 2], [0, 1, 0, 0, 1, 0, 0, 2], [-1, -1, 0, 0, 1, 0, 0, 0]]\n",
      "2.0 2.0\n",
      "2.0 2.0\n",
      "-- [[7, -5, 1, 0, 0, 0, 0, 7], [-12, 15, 0, 1, 0, 0, 0, 7], [1, 0, 0, 0, 0, 1, 0, 3], [0, 1, 0, 0, 1, 0, 0, 2], [-1, -1, 0, 0, 1, 0, 0, 0]]\n",
      "2.0 2.0\n",
      "--- [[7, -5, 1, 0, 0, 0, 7], [-12, 15, 0, 1, 0, 0, 7], [0, 1, 0, 0, 1, 0, 3], [-1, -1, 0, 0, 1, 0, 0]]\n",
      "2\n",
      "--=- [[1.0, 0.0, 0.3333333333333333, 0.1111111111111111, 0.0, 0.0, 3.111111111111111], [0.0, 1.0, 0.26666666666666666, 0.15555555555555556, 0.0, 0.0, 2.9555555555555557], [0.0, 0.0, -0.26666666666666666, -0.15555555555555556, 1.0, 0.0, 0.04444444444444429], [0.0, 0.0, 0.6, 0.26666666666666666, 1.0, 0.0, 6.066666666666667]]\n",
      "3.111111111111111 2.9555555555555557\n"
     ]
    },
    {
     "data": {
      "text/plain": [
       "(3.111111111111111, 2.9555555555555557)"
      ]
     },
     "execution_count": 15,
     "metadata": {},
     "output_type": "execute_result"
    }
   ],
   "source": [
    "mat=[[7,-5,1,0,0,7],[-12,15,0,1,0,7],[-1,-1,0,0,1,0]]\n",
    "\n",
    "branch(mat)"
   ]
  },
  {
   "cell_type": "code",
   "execution_count": 16,
   "metadata": {
    "colab": {
     "base_uri": "https://localhost:8080/"
    },
    "id": "OFW9Q78XumUj",
    "outputId": "cb94933c-0728-4ec1-c3c1-d151d0084965"
   },
   "outputs": [
    {
     "name": "stdout",
     "output_type": "stream",
     "text": [
      "[(2.0, 2.0), (2.428571428571429, 2.0)]\n",
      "(2.0, 2.0)\n"
     ]
    }
   ],
   "source": [
    "print(ans)\n",
    "for i in ans:\n",
    "  if i[0].is_integer() and i[1].is_integer():\n",
    "    print(i)"
   ]
  },
  {
   "cell_type": "code",
   "execution_count": null,
   "metadata": {
    "id": "RvNV6pgf8TWz"
   },
   "outputs": [],
   "source": []
  },
  {
   "cell_type": "markdown",
   "metadata": {
    "id": "7FshSAB8c2kg"
   },
   "source": [
    "# 2nd Question"
   ]
  },
  {
   "cell_type": "code",
   "execution_count": 17,
   "metadata": {
    "id": "C5L3rf-fZ2vQ"
   },
   "outputs": [],
   "source": [
    "ans=[]\n",
    "\n",
    "def branch1(mat,NoVar=2):\n",
    "  global ans\n",
    "  matper=[i.copy() for i in mat]\n",
    "  # print(mat1)\n",
    "  solve(matper,NoVar)\n",
    "  x1,x2=extract(matper)\n",
    "  print(x1,x2)\n",
    "  if x1.is_integer() and x2.is_integer():\n",
    "    return (x1,x2)\n",
    "  else:\n",
    "    if x1-int(x1)>x2-int(x2):\n",
    "      mat1=[[0 for i in range(len(mat[0])-1)] for j in range(len(mat))]\n",
    "      mat2=[[0 for i in range(len(mat[0])-1)] for j in range(len(mat))]\n",
    "      for i in range(len(mat)):\n",
    "        for j in range(len(mat[0])-1):\n",
    "          mat1[i][j]=mat[i][j]\n",
    "          mat2[i][j]=mat[i][j]\n",
    "        mat1[i].append(0)\n",
    "        mat2[i].append(0)\n",
    "        mat1[i].append(mat[i][-1])\n",
    "        mat2[i].append(mat[i][-1])\n",
    "      newrow=[0 for i in range(len(mat[0])-2)]\n",
    "      newrow[0]=1\n",
    "      newrow.append(1)\n",
    "      newrow.append(0)\n",
    "      newrow.append(math.floor(x1))\n",
    "      mat1.insert(2,newrow)\n",
    "      newrow1=newrow.copy()\n",
    "      newrow1[-1]=math.ceil(x1)\n",
    "      # print(newrow)\n",
    "      # print(newrow1)\n",
    "      mat2.insert(2,newrow1)\n",
    "\n",
    "      mat1cp=[i.copy() for i in mat1]\n",
    "      print(\"==\",mat1)\n",
    "\n",
    "      solve(mat1cp,NoVar)\n",
    "      x11,x21=extract(mat1cp)\n",
    "      print(x11,x21)\n",
    "\n",
    "      # if x11.is_integer() and x21.is_integer():\n",
    "      #     ans.append(x11,x21)\n",
    "\n",
    "      if x11!=x1 or x2!=x21:\n",
    "        ans.append(branch1(mat1,NoVar))\n",
    "\n",
    "      # branch(mat2,NoVar)\n",
    "\n",
    "      print(\"--\",mat2)\n",
    "      solve(mat2,NoVar)\n",
    "      x13,x23=extract(mat1cp)\n",
    "      print(x13,x23)\n",
    "\n",
    "      if x1!=x13 and x2!=x23:\n",
    "        return branch1(mat2,NoVar)\n",
    "\n",
    "      # x12=mat1[0][-1]\n",
    "      # x22=mat1[1][-1]\n",
    "      # print(x11,x21)\n",
    "\n",
    "      # return branch(mat1,NoVar+1)\n",
    "      # return branch(mat2,NoVar+1)\n",
    "    else:\n",
    "      # print(mat)\n",
    "      mat1=[[0 for i in range(len(mat[0])-1)] for j in range(len(mat))]\n",
    "      mat2=[[0 for i in range(len(mat[0])-1)] for j in range(len(mat))]\n",
    "      # print(mat1)\n",
    "      for i in range(len(mat)):\n",
    "        for j in range(len(mat[0])-1):\n",
    "          mat1[i][j]=mat[i][j]\n",
    "          mat2[i][j]=mat[i][j]\n",
    "        mat1[i].append(0)\n",
    "        mat2[i].append(0)\n",
    "        mat1[i].append(mat[i][-1])\n",
    "        mat2[i].append(mat[i][-1])\n",
    "      newrow=[0 for i in range(len(mat[0])-2)]\n",
    "      newrow[1]=1\n",
    "      newrow.append(1)\n",
    "      newrow.append(0)\n",
    "      newrow.append(math.floor(x2))\n",
    "      mat1.insert(2,newrow)\n",
    "      newrow1=newrow.copy()\n",
    "      newrow1[-1]=math.ceil(x2)\n",
    "      mat2.insert(2,newrow1)\n",
    "      # print(mat1)\n",
    "      # return branch(mat1,NoVar+1)\n",
    "      # return branch(mat2,NoVar+1)\n",
    "\n",
    "      mat1cp=[i.copy() for i in mat1]\n",
    "      print(\"===\",mat1)\n",
    "\n",
    "      solve(mat1cp,NoVar+1)\n",
    "      x12,x22=extract(mat1cp)\n",
    "\n",
    "      # solve(mat1,NoVar)\n",
    "      # x12=mat2[0][-1]\n",
    "      # x22=mat2[1][-1]\n",
    "      print(x12,x22)\n",
    "\n",
    "      # if x12.is_integer() and x22.is_integer():\n",
    "      #     return (x11,x12)\n",
    "\n",
    "      if x1!=x12 or x2!=x22:\n",
    "        ans.append(branch1(mat1,NoVar+1))\n",
    "\n",
    "      mat2cp=[i.copy() for i in mat2]\n",
    "      print(\"---\",mat2cp)\n",
    "      # print(NoVar)\n",
    "      solve(mat2cp,NoVar)\n",
    "      print(\"--=-\",mat2cp)\n",
    "      x14,x24=extract(mat2cp)\n",
    "      print(x14,x24)\n",
    "\n",
    "      if x1!=x14 and x2!=x24:\n",
    "        return branch1(mat2,NoVar)\n",
    "    return (x1,x2)"
   ]
  },
  {
   "cell_type": "code",
   "execution_count": 18,
   "metadata": {
    "colab": {
     "base_uri": "https://localhost:8080/"
    },
    "id": "ZYLgOiTgLZ7K",
    "outputId": "3613f31f-32da-471a-d4c2-142e3c008112"
   },
   "outputs": [
    {
     "name": "stdout",
     "output_type": "stream",
     "text": [
      "8.153846153846153 1.3076923076923075\n",
      "=== [[3, -8, 1, 0, 0, 0, 14], [4, 11, 0, 1, 0, 0, 47], [0, 1, 0, 0, 1, 0, 1], [-7, -12, 0, 0, 1, 0, 0]]\n",
      "0.0 1.0\n",
      "0.0 1.0\n",
      "--- [[3, -8, 1, 0, 0, 0, 14], [4, 11, 0, 1, 0, 0, 47], [0, 1, 0, 0, 1, 0, 2], [-7, -12, 0, 0, 1, 0, 0]]\n",
      "--=- [[0.0, 0.0, 1.0, -0.75, 16.25, 0.0, 11.25], [1.0, 0.0, 0.0, 0.25, -2.75, 0.0, 6.25], [0.0, 1.0, 0.0, 0.0, 1.0, 0.0, 2.0], [0.0, 0.0, 0.0, 1.75, -6.25, 0.0, 67.75]]\n",
      "6.25 2.0\n",
      "6.25 2.0\n",
      "== [[3, -8, 1, 0, 0, 0, 0, 14], [4, 11, 0, 1, 0, 0, 0, 47], [1, 0, 0, 0, 0, 1, 0, 6], [0, 1, 0, 0, 1, 0, 0, 2], [-7, -12, 0, 0, 1, 0, 0, 0]]\n",
      "6.0 2.0\n",
      "6.0 2.0\n",
      "-- [[3, -8, 1, 0, 0, 0, 0, 14], [4, 11, 0, 1, 0, 0, 0, 47], [1, 0, 0, 0, 0, 1, 0, 7], [0, 1, 0, 0, 1, 0, 0, 2], [-7, -12, 0, 0, 1, 0, 0, 0]]\n",
      "6.0 2.0\n"
     ]
    },
    {
     "data": {
      "text/plain": [
       "(6.25, 2.0)"
      ]
     },
     "execution_count": 18,
     "metadata": {},
     "output_type": "execute_result"
    }
   ],
   "source": [
    "ans=[]\n",
    "\n",
    "mat=[[3,-8,1,0,0,14],[4,11,0,1,0,47],[-7,-12,0,0,1,0]]\n",
    "branch1(mat)"
   ]
  },
  {
   "cell_type": "code",
   "execution_count": 19,
   "metadata": {
    "colab": {
     "base_uri": "https://localhost:8080/"
    },
    "id": "IE13VTzILlXN",
    "outputId": "cbb78152-003e-486c-90d6-ea1fd29b4028"
   },
   "outputs": [
    {
     "name": "stdout",
     "output_type": "stream",
     "text": [
      "(6.0, 2.0)\n"
     ]
    }
   ],
   "source": [
    "print(ans[-1])\n",
    "# for i in ans:\n",
    "#   if i[0].is_integer() and i[1].is_integer():\n",
    "#     print(i)"
   ]
  },
  {
   "cell_type": "code",
   "execution_count": null,
   "metadata": {
    "id": "NS8JQ4cZL6gX"
   },
   "outputs": [],
   "source": []
  }
 ],
 "metadata": {
  "colab": {
   "provenance": []
  },
  "kernelspec": {
   "display_name": "Python 3",
   "name": "python3"
  },
  "language_info": {
   "codemirror_mode": {
    "name": "ipython",
    "version": 3
   },
   "file_extension": ".py",
   "mimetype": "text/x-python",
   "name": "python",
   "nbconvert_exporter": "python",
   "pygments_lexer": "ipython3",
   "version": "3.11.0"
  }
 },
 "nbformat": 4,
 "nbformat_minor": 0
}
