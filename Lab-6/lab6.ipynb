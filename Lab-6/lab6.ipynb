{
 "cells": [
  {
   "cell_type": "code",
   "execution_count": 1,
   "metadata": {},
   "outputs": [
    {
     "name": "stdout",
     "output_type": "stream",
     "text": [
      "Optimal solution: [-0.87411296  1.26144272]\n",
      "Optimal objective value: -0.9158001575725232\n",
      "Constraint value at optimal solution: 0.3553112148254658\n"
     ]
    }
   ],
   "source": [
    "import numpy as np\n",
    "\n",
    "# Define the objective function f(x1, x2)\n",
    "def objective(x):\n",
    "    return x[0]**2 + x[1]**2 + 2*x[0] - 2*x[1] + 1\n",
    "\n",
    "# Define the constraint function g(x1, x2)\n",
    "def constraint(x):\n",
    "    return x[0]**2 + x[1]**2 - 2  # g(x1, x2) = 0\n",
    "\n",
    "# Compute the gradient of the objective function\n",
    "def gradient_of_objective(x):\n",
    "    df_dx1 = 2*x[0] + 2  # derivative w.r.t x1\n",
    "    df_dx2 = 2*x[1] - 2  # derivative w.r.t x2\n",
    "    return np.array([df_dx1, df_dx2])\n",
    "\n",
    "# Compute the gradient of the constraint function\n",
    "def gradient_of_constraint(x):\n",
    "    dg_dx1 = 2*x[0]  # derivative w.r.t x1\n",
    "    dg_dx2 = 2*x[1]  # derivative w.r.t x2\n",
    "    return np.array([dg_dx1, dg_dx2])\n",
    "\n",
    "# Augmented Lagrangian Method (ALM) without BFGS (gradient descent-based)\n",
    "def augmented_lagrange_multiplier(objective, constraint, gradient_of_objective, gradient_of_constraint, x0, max_iter=100, rho=0.1, tol=1e-6, alpha=0.01, penalty_growth_rate=1.01):\n",
    "    # Initial guess for x (x1, x2)\n",
    "    x = np.array(x0)\n",
    "    lambda_ = 0  # Initial guess for the Lagrange multiplier\n",
    "    penalty = rho  # Penalty term\n",
    "\n",
    "    # Iterate to update the solution and Lagrange multiplier\n",
    "    for iteration in range(max_iter):\n",
    "        # Compute gradients of the objective and constraint\n",
    "        grad_f = gradient_of_objective(x)  # Gradient of the objective function\n",
    "        grad_g = gradient_of_constraint(x)  # Gradient of the constraint function\n",
    "        \n",
    "        # Compute the gradient of the augmented Lagrangian\n",
    "        grad_L = grad_f + lambda_ * grad_g + penalty * constraint(x) * grad_g  # Gradient of Augmented Lagrangian\n",
    "        \n",
    "        # Update the solution using gradient descent step\n",
    "        x_new = x - alpha * grad_L\n",
    "        \n",
    "        # Ensure that the new solution doesn't lead to overflow or NaN values\n",
    "        if np.any(np.isnan(x_new)) or np.any(np.isinf(x_new)):\n",
    "            print(\"NaN or Inf encountered in solution update! Stopping optimization.\")\n",
    "            break\n",
    "\n",
    "        # Update the Lagrange multiplier based on current constraint violation\n",
    "        lambda_ += penalty * constraint(x_new)\n",
    "        \n",
    "        # Increase penalty term for stricter constraint satisfaction\n",
    "        penalty = min(penalty * penalty_growth_rate, 1e6)  # Limit penalty growth\n",
    "        \n",
    "        # Check if x has sufficiently converged\n",
    "        if np.linalg.norm(x_new - x) < tol and np.abs(constraint(x)) < tol:\n",
    "            print(f\"Converged after {iteration+1} iterations.\")\n",
    "            break\n",
    "        \n",
    "        # Update x for the next iteration\n",
    "        x = x_new\n",
    "\n",
    "    return x, objective(x), constraint(x)\n",
    "\n",
    "# Example usage with an initial guess\n",
    "x0 = [2.0, 2.0]  # Initial guess for x (x1, x2)\n",
    "optimal_x, optimal_f, optimal_g = augmented_lagrange_multiplier(objective, constraint, gradient_of_objective, gradient_of_constraint, x0)\n",
    "\n",
    "print(\"Optimal solution:\", optimal_x)\n",
    "print(\"Optimal objective value:\", optimal_f)\n",
    "print(\"Constraint value at optimal solution:\", optimal_g)\n"
   ]
  },
  {
   "cell_type": "code",
   "execution_count": null,
   "metadata": {},
   "outputs": [],
   "source": []
  }
 ],
 "metadata": {
  "kernelspec": {
   "display_name": "Python 3",
   "language": "python",
   "name": "python3"
  },
  "language_info": {
   "codemirror_mode": {
    "name": "ipython",
    "version": 3
   },
   "file_extension": ".py",
   "mimetype": "text/x-python",
   "name": "python",
   "nbconvert_exporter": "python",
   "pygments_lexer": "ipython3",
   "version": "3.11.0"
  }
 },
 "nbformat": 4,
 "nbformat_minor": 2
}
