{
 "cells": [
  {
   "cell_type": "markdown",
   "metadata": {
    "id": "uQ-14MnUziUk"
   },
   "source": [
    "# OML Lab\n",
    "\n",
    "## Harshit Agarwal 1RVU22CSE063\n",
    "## Pranav P 1RVU22CSE119\n",
    "## Sudhanva M S 1RVU22CSE166"
   ]
  },
  {
   "cell_type": "code",
   "execution_count": 1,
   "metadata": {
    "id": "Ed3MuGZLl2bU"
   },
   "outputs": [],
   "source": [
    "def rowtransform(mat,pr,pc):\n",
    "  div=mat[pr][pc]\n",
    "  if div==0:\n",
    "    return\n",
    "  for i in range(len(mat[0])):\n",
    "    mat[pr][i]/=div\n",
    "\n",
    "  for i in range(len(mat)):\n",
    "    if i!=pr:\n",
    "\n",
    "      div=mat[i][pc]\n",
    "      for j in range(len(mat[0])):\n",
    "        mat[i][j]-=mat[pr][j]*div"
   ]
  },
  {
   "cell_type": "code",
   "execution_count": 2,
   "metadata": {
    "id": "8XpmZHOeoeMX"
   },
   "outputs": [],
   "source": [
    "def find_piv(mat,Novar):\n",
    "  pc=0\n",
    "  for i in range(Novar):\n",
    "    if mat[-1][i]<=mat[-1][pc]:\n",
    "      pc=i\n",
    "  if mat[-1][pc]>0:\n",
    "    return -1,-1\n",
    "  pr=0\n",
    "  prv=float('inf')\n",
    "  for i in range(len(mat)-1):\n",
    "    if mat[i][pc]==0:\n",
    "      continue\n",
    "    a=mat[i][-1]/mat[i][pc]\n",
    "    if a<prv:\n",
    "      pr=i\n",
    "      prv=a\n",
    "  return pr,pc"
   ]
  },
  {
   "cell_type": "code",
   "execution_count": 3,
   "metadata": {
    "colab": {
     "base_uri": "https://localhost:8080/"
    },
    "id": "PAC-l315nbI_",
    "outputId": "98d59df8-f71c-41e1-9f0c-451e79ee4b0a"
   },
   "outputs": [
    {
     "name": "stdout",
     "output_type": "stream",
     "text": [
      "======================\n",
      "[[1, 2, 1, 0, 0, 4], [3, 2, 0, 1, 0, 6], [-3, -2, 0, 0, 1, 0]]\n",
      "1 0\n",
      "======================\n",
      "[[0.0, 1.3333333333333335, 1.0, -0.3333333333333333, 0.0, 2.0], [1.0, 0.6666666666666666, 0.0, 0.3333333333333333, 0.0, 2.0], [0.0, 0.0, 0.0, 1.0, 1.0, 6.0]]\n",
      "0 1\n",
      "======================\n",
      "[[0.0, 1.0, 0.7499999999999999, -0.24999999999999997, 0.0, 1.4999999999999998], [1.0, 0.0, -0.4999999999999999, 0.49999999999999994, 0.0, 1.0000000000000002], [0.0, 0.0, 0.0, 1.0, 1.0, 6.0]]\n",
      "0 1\n"
     ]
    }
   ],
   "source": [
    "mat=[[1,2,1,0,0,4],[3,2,0,1,0,6],[-3,-2,0,0,1,0]]\n",
    "\n",
    "NoVar=2\n",
    "s=set()\n",
    "while True:\n",
    "  print(\"======================\")\n",
    "  print(mat)\n",
    "  pr,pc=find_piv(mat,NoVar)\n",
    "  print(pr,pc)\n",
    "  if pr==-1 or pc>NoVar-1 or pc in s:\n",
    "    break\n",
    "  s.add(pc)\n",
    "\n",
    "  rowtransform(mat,pr,pc)"
   ]
  },
  {
   "cell_type": "code",
   "execution_count": 4,
   "metadata": {
    "colab": {
     "base_uri": "https://localhost:8080/"
    },
    "id": "rxrtpsFNp00H",
    "outputId": "9e763300-c375-408e-b690-ee3061a1af17"
   },
   "outputs": [
    {
     "data": {
      "text/plain": [
       "[[0.0, 1.0, 0.7499999999999999, -0.24999999999999997, 0.0, 1.4999999999999998],\n",
       " [1.0, 0.0, -0.4999999999999999, 0.49999999999999994, 0.0, 1.0000000000000002],\n",
       " [0.0, 0.0, 0.0, 1.0, 1.0, 6.0]]"
      ]
     },
     "execution_count": 4,
     "metadata": {},
     "output_type": "execute_result"
    }
   ],
   "source": [
    "mat"
   ]
  },
  {
   "cell_type": "markdown",
   "metadata": {
    "id": "Qv474c1TzFEX"
   },
   "source": [
    "# Optimal Value: 6.0\n",
    "\n",
    "## X=1\n",
    "## Y=1.5"
   ]
  },
  {
   "cell_type": "code",
   "execution_count": 5,
   "metadata": {
    "colab": {
     "base_uri": "https://localhost:8080/"
    },
    "id": "2rgJAA3m14C9",
    "outputId": "51314abd-247a-4e80-cc79-4cb31ee752f9"
   },
   "outputs": [
    {
     "name": "stdout",
     "output_type": "stream",
     "text": [
      "Linear Constrained Optimization Result:\n",
      "Optimal value: 6.0\n",
      "Optimal solution: x = 1.0000000000000002, y = 1.4999999999999998\n"
     ]
    },
    {
     "name": "stderr",
     "output_type": "stream",
     "text": [
      "C:\\Users\\pranav\\AppData\\Local\\Temp\\ipykernel_22600\\176471428.py:13: DeprecationWarning: `method='simplex'` is deprecated and will be removed in SciPy 1.11.0. Please use one of the HiGHS solvers (e.g. `method='highs'`) in new code.\n",
      "  result = linprog(c, A_ub=a, b_ub=b, bounds=[x_bounds, y_bounds], method = 'simplex')\n"
     ]
    }
   ],
   "source": [
    "import numpy as np\n",
    "from scipy.optimize import linprog\n",
    "# Coefficients of the objective function (note the negative sign for maximization problem) c = [-3, -2]\n",
    "# Coefficients of the inequality constraints (left-hand side)\n",
    "a = [[1, 2], [3,2]]\n",
    "# Right-hand side of the inequality constraints\n",
    "b = [4, 6]\n",
    "c=[-3,-2]\n",
    "# Bounds for the variables (x >= 0, y >= 0)\n",
    "x_bounds=(0, None)\n",
    "y_bounds=(0, None)\n",
    "# Solving the linear programming problem using the simplex method\n",
    "result = linprog(c, A_ub=a, b_ub=b, bounds=[x_bounds, y_bounds], method = 'simplex')\n",
    "# Displaying the results\n",
    "print(\"Linear Constrained Optimization Result:\")\n",
    "print(f\"Optimal value: {-result.fun}\") # Negate the value because of maximization\n",
    "print(f\"Optimal solution: x = {result.x[0]}, y = {result.x[1]}\")\n"
   ]
  },
  {
   "cell_type": "markdown",
   "metadata": {
    "id": "Ei9cBTlo140K"
   },
   "source": [
    "# Optimal Value: 6.0\n",
    "\n",
    "## X=1\n",
    "## Y=1.5"
   ]
  },
  {
   "cell_type": "code",
   "execution_count": null,
   "metadata": {
    "id": "yJJfnK_D2KpC"
   },
   "outputs": [],
   "source": []
  },
  {
   "cell_type": "code",
   "execution_count": 6,
   "metadata": {
    "colab": {
     "base_uri": "https://localhost:8080/"
    },
    "id": "GXrrF9mxxsla",
    "outputId": "6e7fbe07-fe59-42a8-f6ac-3d32253f270f"
   },
   "outputs": [
    {
     "name": "stdout",
     "output_type": "stream",
     "text": [
      "======================\n",
      "[[0.5, 0.25, 1.0, 0.0, 0.0, 0.0, 0.0, 4.0], [1.0000002, 3.0000003, 0.0, -1.0, 0.0, -1.0, 1e-07, 20.0], [1.0, 1.0, 0.0, 0.0, 0.0, 10000000.0, 0.0, 10.0], [-2e-07, -3e-07, -0.0, -0.0, 1.0, 1.0, -1e-07, -0.0]]\n",
      "======================\n",
      "[[0.5, 0.25, 1.0, 0.0, 0.0, 0.0, 0.0, 4.0], [0.9999999999999999, 3.0, 0.0, -1.0, 1.0, 0.0, 0.0, 20.0], [3.0, 4.0, 0.0, 0.0, -10000000.0, 0.0, 1.0, 10.0], [-2e-07, -3e-07, -0.0, -0.0, 1.0, 1.0, -1e-07, -0.0]]\n",
      "2 1\n",
      "======================\n",
      "[[0.3125, 0.0, 1.0, 0.0, 625000.0, 0.0, -0.0625, 3.375], [-1.25, 0.0, 0.0, -1.0, 7500001.0, 0.0, -0.75, 12.5], [0.75, 1.0, 0.0, 0.0, -2500000.0, 0.0, 0.25, 2.5], [2.5e-08, 0.0, 0.0, 0.0, 0.25, 1.0, -2.5e-08, 7.5e-07]]\n",
      "2 1\n"
     ]
    }
   ],
   "source": [
    "m=10000000\n",
    "\n",
    "mat=[[1/2,1/4,1,0,0,0,0,4],[1,3,0,-1,1,0,0,20],[1,1,0,0,0,m,0,10],[2,3,0,0,-m,-m,1,0]]\n",
    "\n",
    "NoVar=2\n",
    "s=set()\n",
    "rowtransform(mat,3,4)\n",
    "print(\"======================\")\n",
    "print(mat)\n",
    "rowtransform(mat,3,5)\n",
    "while True:\n",
    "  print(\"======================\")\n",
    "  print(mat)\n",
    "  pr,pc=find_piv(mat,NoVar)\n",
    "  print(pr,pc)\n",
    "  if pr==-1 or pc>NoVar-1 or pc in s:\n",
    "    break\n",
    "  s.add(pc)\n",
    "\n",
    "  rowtransform(mat,pr,pc)"
   ]
  },
  {
   "cell_type": "code",
   "execution_count": 7,
   "metadata": {
    "colab": {
     "base_uri": "https://localhost:8080/"
    },
    "id": "SJAPVl7y0VZf",
    "outputId": "be68fc85-e68b-4226-bf93-2fed4e8622a0"
   },
   "outputs": [
    {
     "data": {
      "text/plain": [
       "[[0.3125, 0.0, 1.0, 0.0, 625000.0, 0.0, -0.0625, 3.375],\n",
       " [-1.25, 0.0, 0.0, -1.0, 7500001.0, 0.0, -0.75, 12.5],\n",
       " [0.75, 1.0, 0.0, 0.0, -2500000.0, 0.0, 0.25, 2.5],\n",
       " [2.5e-08, 0.0, 0.0, 0.0, 0.25, 1.0, -2.5e-08, 7.5e-07]]"
      ]
     },
     "execution_count": 7,
     "metadata": {},
     "output_type": "execute_result"
    }
   ],
   "source": [
    "mat"
   ]
  },
  {
   "cell_type": "markdown",
   "metadata": {
    "id": "5sRRIG7q2TsX"
   },
   "source": [
    "Working on it"
   ]
  },
  {
   "cell_type": "code",
   "execution_count": null,
   "metadata": {
    "id": "Jrm3vsEv0XKr"
   },
   "outputs": [],
   "source": []
  }
 ],
 "metadata": {
  "colab": {
   "provenance": []
  },
  "kernelspec": {
   "display_name": "Python 3",
   "name": "python3"
  },
  "language_info": {
   "codemirror_mode": {
    "name": "ipython",
    "version": 3
   },
   "file_extension": ".py",
   "mimetype": "text/x-python",
   "name": "python",
   "nbconvert_exporter": "python",
   "pygments_lexer": "ipython3",
   "version": "3.11.0"
  }
 },
 "nbformat": 4,
 "nbformat_minor": 0
}
