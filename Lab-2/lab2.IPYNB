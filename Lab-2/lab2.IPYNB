{
 "cells": [
  {
   "cell_type": "markdown",
   "metadata": {},
   "source": [
    "Objective: Formulate and solve both nonlinear constrained and unconstrained optimization problems. Problems are picked by students."
   ]
  },
  {
   "cell_type": "markdown",
   "metadata": {},
   "source": [
    "Part 1: Nonlinear Unconstrained Problem"
   ]
  },
  {
   "cell_type": "code",
   "execution_count": 1,
   "metadata": {},
   "outputs": [
    {
     "name": "stdout",
     "output_type": "stream",
     "text": [
      "Nonlinear Unconstrained Result: 5\n"
     ]
    }
   ],
   "source": [
    "# Define the nonlinear unconstrained problem function\n",
    "def nonlinear_unconstrained(x, y):\n",
    "    return x**2 + y**2\n",
    "\n",
    "# Example usage\n",
    "x = 1\n",
    "y = 2\n",
    "result_unconstrained = nonlinear_unconstrained(x, y)\n",
    "print(f\"Nonlinear Unconstrained Result: {result_unconstrained}\")\n"
   ]
  },
  {
   "cell_type": "markdown",
   "metadata": {},
   "source": [
    "Part 2: Nonlinear Constrained Problem"
   ]
  },
  {
   "cell_type": "code",
   "execution_count": 2,
   "metadata": {},
   "outputs": [
    {
     "name": "stdout",
     "output_type": "stream",
     "text": [
      "Nonlinear Constrained Result:\n",
      "Optimal value: 0.5\n",
      "Optimal solution: x = 0.5, y = 0.5\n"
     ]
    }
   ],
   "source": [
    "from scipy.optimize import minimize\n",
    "\n",
    "# Define the objective function\n",
    "def objective(x):\n",
    "    return x[0]**2 + x[1]**2\n",
    "\n",
    "# Define the constraint function\n",
    "def constraint(x):\n",
    "    return x[0] + x[1] - 1\n",
    "\n",
    "# Constraint dictionary\n",
    "con = {'type': 'ineq', 'fun': constraint}\n",
    "\n",
    "# Initial guess\n",
    "x0 = [0.5, 0.5]\n",
    "\n",
    "# Solving the nonlinear programming problem\n",
    "solution = minimize(objective, x0, method='SLSQP', constraints=con)\n",
    "\n",
    "print(\"Nonlinear Constrained Result:\")\n",
    "print(f\"Optimal value: {solution.fun}\")\n",
    "print(f\"Optimal solution: x = {solution.x[0]}, y = {solution.x[1]}\")\n"
   ]
  },
  {
   "cell_type": "code",
   "execution_count": 3,
   "metadata": {},
   "outputs": [],
   "source": [
    "import sympy as sp"
   ]
  },
  {
   "cell_type": "code",
   "execution_count": 4,
   "metadata": {},
   "outputs": [],
   "source": [
    "# Define the variables\n",
    "x, y = sp.symbols('x y')\n"
   ]
  },
  {
   "cell_type": "code",
   "execution_count": 5,
   "metadata": {},
   "outputs": [],
   "source": [
    "# Define the function\n",
    "f = x**3 + y**2 + 2*x*y + 1"
   ]
  },
  {
   "cell_type": "code",
   "execution_count": 6,
   "metadata": {},
   "outputs": [],
   "source": [
    "# Compute the first derivatives\n",
    "f_x = sp.diff(f, x)\n",
    "f_y = sp.diff(f, y)"
   ]
  },
  {
   "cell_type": "code",
   "execution_count": 7,
   "metadata": {},
   "outputs": [
    {
     "name": "stdout",
     "output_type": "stream",
     "text": [
      "Critical Points: [(0, 0), (2/3, -2/3)]\n"
     ]
    }
   ],
   "source": [
    "# Find the critical points by solving the system of equations f_x = 0 and f_y = 0\n",
    "critical_points = sp.solve([f_x, f_y], (x, y))\n",
    "print(\"Critical Points:\", critical_points)"
   ]
  },
  {
   "cell_type": "code",
   "execution_count": 8,
   "metadata": {},
   "outputs": [],
   "source": [
    "# Compute the second derivatives (Hessian matrix components)\n",
    "f_xx = sp.diff(f_x, x)\n",
    "f_yy = sp.diff(f_y, y)\n",
    "f_xy = sp.diff(f_x, y)"
   ]
  },
  {
   "cell_type": "code",
   "execution_count": 9,
   "metadata": {},
   "outputs": [
    {
     "name": "stdout",
     "output_type": "stream",
     "text": [
      "Hessian Determinant at (0, 0): -4\n",
      "The point (0, 0) is a saddle point.\n",
      "Hessian Determinant at (2/3, -2/3): 4\n",
      "The point (2/3, -2/3) is a local minimum.\n"
     ]
    }
   ],
   "source": [
    "# Evaluate the Hessian determinant at each critical point to classify them\n",
    "for point in critical_points:\n",
    "    hessian_det = f_xx.subs({x: point[0], y: point[1]}) * f_yy.subs({x: point[0], y: point[1]}) - f_xy.subs({x: point[0], y: point[1]})**2\n",
    "    print(f\"Hessian Determinant at {point}: {hessian_det}\")\n",
    "    \n",
    "    if hessian_det > 0:\n",
    "        if f_xx.subs({x: point[0], y: point[1]}) > 0:\n",
    "            print(f\"The point {point} is a local minimum.\")\n",
    "        else:\n",
    "            print(f\"The point {point} is a local maximum.\")\n",
    "    elif hessian_det < 0:\n",
    "        print(f\"The point {point} is a saddle point.\")\n",
    "    else:\n",
    "        print(f\"The test is inconclusive for the point {point}.\")"
   ]
  },
  {
   "cell_type": "code",
   "execution_count": null,
   "metadata": {},
   "outputs": [],
   "source": []
  }
 ],
 "metadata": {
  "kernelspec": {
   "display_name": "Python 3",
   "language": "python",
   "name": "python3"
  },
  "language_info": {
   "codemirror_mode": {
    "name": "ipython",
    "version": 3
   },
   "file_extension": ".py",
   "mimetype": "text/x-python",
   "name": "python",
   "nbconvert_exporter": "python",
   "pygments_lexer": "ipython3",
   "version": "3.11.0"
  }
 },
 "nbformat": 4,
 "nbformat_minor": 2
}
